{
  "nbformat": 4,
  "nbformat_minor": 0,
  "metadata": {
    "colab": {
      "provenance": [],
      "authorship_tag": "ABX9TyOzmIBtUAspVaD//qO5yxeL",
      "include_colab_link": true
    },
    "kernelspec": {
      "name": "python3",
      "display_name": "Python 3"
    },
    "language_info": {
      "name": "python"
    }
  },
  "cells": [
    {
      "cell_type": "markdown",
      "metadata": {
        "id": "view-in-github",
        "colab_type": "text"
      },
      "source": [
        "<a href=\"https://colab.research.google.com/github/ugiriwabo/Find-similarity/blob/main/speech_detective_codes.ipynb\" target=\"_parent\"><img src=\"https://colab.research.google.com/assets/colab-badge.svg\" alt=\"Open In Colab\"/></a>"
      ]
    },
    {
      "cell_type": "code",
      "execution_count": 29,
      "metadata": {
        "id": "r3oGmUHtVLux",
        "colab": {
          "base_uri": "https://localhost:8080/"
        },
        "outputId": "66cd5dc8-8b75-416a-bde6-b85bbc7261ef"
      },
      "outputs": [
        {
          "output_type": "stream",
          "name": "stdout",
          "text": [
            "Hate speech detected! Offensive words: ['kill', 'destroy', 'tutsi']\n"
          ]
        }
      ],
      "source": [
        "offensive_words = [\n",
        "    \"inyenzi\", \"cockroaches\", \"kill\", \"exterminate\", \"destroy\",\n",
        "    \"traitors\", \"snakes\", \"rats\", \"hutu power\", \"tutsi\",\n",
        "    \"ethnic cleansing\", \"wipe out\", \"enemy\", \"revenge\",\n",
        "    \"impurity\", \"traitors\", \"infiltrators\", \"parasites\"\n",
        "]\n",
        "# Function to detect hate speech\n",
        "def detect_hate_speech(text):\n",
        "    detected_words = [word for word in offensive_words if word in text.lower()]\n",
        "    return detected_words\n",
        "\n",
        "# Example usage\n",
        "text = \"The first news he announced was that the Tutsi destroy should be sent to Ethiopia by sending them along the Nyabarongo so that they would come out in Ethiopia. After that, the interahamwe [militia responsible for widespread killing during the genocide], who had come there to dance, started to look at us differently as if we were different people.\"\n",
        "hate_words = detect_hate_speech(text)\n",
        "if hate_words:\n",
        "    print(\"Hate speech detected! Offensive words:\", hate_words)\n",
        "else:\n",
        "    print(\"No hate speech detected.\")\n",
        "\n",
        "\n"
      ]
    }
  ]
}